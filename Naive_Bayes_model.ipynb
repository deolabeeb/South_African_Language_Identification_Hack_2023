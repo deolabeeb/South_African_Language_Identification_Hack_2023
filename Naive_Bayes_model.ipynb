{
 "cells": [
  {
   "cell_type": "code",
   "execution_count": 78,
   "id": "732caa00-c64a-49ea-a794-ee3b10ca7fbd",
   "metadata": {},
   "outputs": [],
   "source": [
    "from comet_ml import Experiment"
   ]
  },
  {
   "cell_type": "code",
   "execution_count": 79,
   "id": "07e024e1-cd29-4e16-8eb3-8113373c699e",
   "metadata": {},
   "outputs": [
    {
     "name": "stderr",
     "output_type": "stream",
     "text": [
      "\u001b[1;38;5;214mCOMET WARNING:\u001b[0m As you are running in a Jupyter environment, you will need to call `experiment.end()` when finished to ensure all metrics and code are logged before exiting.\n",
      "\u001b[1;38;5;39mCOMET INFO:\u001b[0m Experiment is live on comet.com https://www.comet.com/deolabeeb/explore-hackathon/17a5245009544ab787e420397e8bc069\n",
      "\n"
     ]
    }
   ],
   "source": [
    "from comet_ml import Experiment\n",
    "experiment = Experiment(\n",
    "  api_key = \"gFC2BZfeX7KSnZwINu6BF7IcJ\",\n",
    "  project_name = \"explore-hackathon\",\n",
    "  workspace=\"deolabeeb\"\n",
    ")"
   ]
  },
  {
   "cell_type": "code",
   "execution_count": 80,
   "id": "e80e3585-8904-4c40-b066-0862c363c31d",
   "metadata": {},
   "outputs": [],
   "source": [
    "import pandas as pd\n",
    "import numpy as np\n",
    "import matplotlib.pyplot as plt\n",
    "import seaborn as sns\n",
    "\n",
    "from sklearn.naive_bayes import GaussianNB\n",
    "from sklearn.neighbors import KNeighborsClassifier\n",
    "from sklearn.naive_bayes import MultinomialNB\n",
    "\n",
    "from sklearn.feature_extraction.text import TfidfVectorizer, CountVectorizer\n",
    "from sklearn.model_selection import train_test_split\n",
    "from sklearn.linear_model import LogisticRegression\n",
    "from sklearn.metrics import (accuracy_score, precision_score, recall_score, confusion_matrix,\n",
    "                             ConfusionMatrixDisplay, roc_curve, f1_score, roc_auc_score,\n",
    "                             classification_report)\n",
    "from sklearn.pipeline import Pipeline\n",
    "from sklearn.model_selection import GridSearchCV\n",
    "import pickle as pk\n",
    "import joblib as jb\n",
    "import warnings\n",
    "warnings.filterwarnings('ignore')"
   ]
  },
  {
   "cell_type": "code",
   "execution_count": 81,
   "id": "529d50cd-4e45-413d-8fc3-f502d48f0b7f",
   "metadata": {},
   "outputs": [],
   "source": [
    "df_train = pd.read_csv(\"data/cleaned_data.csv\")"
   ]
  },
  {
   "cell_type": "code",
   "execution_count": 82,
   "id": "4d8e806c-9add-422f-8c87-3429ab524975",
   "metadata": {},
   "outputs": [
    {
     "data": {
      "text/html": [
       "<div>\n",
       "<style scoped>\n",
       "    .dataframe tbody tr th:only-of-type {\n",
       "        vertical-align: middle;\n",
       "    }\n",
       "\n",
       "    .dataframe tbody tr th {\n",
       "        vertical-align: top;\n",
       "    }\n",
       "\n",
       "    .dataframe thead th {\n",
       "        text-align: right;\n",
       "    }\n",
       "</style>\n",
       "<table border=\"1\" class=\"dataframe\">\n",
       "  <thead>\n",
       "    <tr style=\"text-align: right;\">\n",
       "      <th></th>\n",
       "      <th>lang_id</th>\n",
       "      <th>text</th>\n",
       "    </tr>\n",
       "  </thead>\n",
       "  <tbody>\n",
       "    <tr>\n",
       "      <th>0</th>\n",
       "      <td>xho</td>\n",
       "      <td>umgaqosiseko wenza amalungiselelo kumaziko axh...</td>\n",
       "    </tr>\n",
       "    <tr>\n",
       "      <th>1</th>\n",
       "      <td>xho</td>\n",
       "      <td>dha iya kuba nobulumko bokubeka umsebenzi naph...</td>\n",
       "    </tr>\n",
       "    <tr>\n",
       "      <th>2</th>\n",
       "      <td>eng</td>\n",
       "      <td>province kwazulunatal department transport inv...</td>\n",
       "    </tr>\n",
       "    <tr>\n",
       "      <th>3</th>\n",
       "      <td>nso</td>\n",
       "      <td>netefatša gore file dilo moka tše dumelelanego...</td>\n",
       "    </tr>\n",
       "    <tr>\n",
       "      <th>4</th>\n",
       "      <td>ven</td>\n",
       "      <td>khomishini ndinganyiso mbeu ewa maana nga mula...</td>\n",
       "    </tr>\n",
       "  </tbody>\n",
       "</table>\n",
       "</div>"
      ],
      "text/plain": [
       "  lang_id                                               text\n",
       "0     xho  umgaqosiseko wenza amalungiselelo kumaziko axh...\n",
       "1     xho  dha iya kuba nobulumko bokubeka umsebenzi naph...\n",
       "2     eng  province kwazulunatal department transport inv...\n",
       "3     nso  netefatša gore file dilo moka tše dumelelanego...\n",
       "4     ven  khomishini ndinganyiso mbeu ewa maana nga mula..."
      ]
     },
     "execution_count": 82,
     "metadata": {},
     "output_type": "execute_result"
    }
   ],
   "source": [
    "df_train.head()"
   ]
  },
  {
   "cell_type": "code",
   "execution_count": 83,
   "id": "bcfddf4c-3035-4f5d-a867-77f9c6b022a8",
   "metadata": {},
   "outputs": [],
   "source": [
    "X = df_train['text']\n",
    "y = df_train['lang_id']"
   ]
  },
  {
   "cell_type": "markdown",
   "id": "53e2b061-c56a-478b-9873-de41b566b965",
   "metadata": {},
   "source": [
    "### Multinomial Naive Bayes"
   ]
  },
  {
   "cell_type": "code",
   "execution_count": 84,
   "id": "f7b8e178-724c-40ef-8517-1971302e0f5f",
   "metadata": {},
   "outputs": [
    {
     "name": "stdout",
     "output_type": "stream",
     "text": [
      "Accuracy: 0.9982828282828283\n"
     ]
    }
   ],
   "source": [
    "# Split the data into training and testing sets\n",
    "X_train, X_test, y_train, y_test = train_test_split(df_train['text'], df_train['lang_id'], test_size=0.3, random_state=42)\n",
    "\n",
    "# Vectorize the text data\n",
    "vectorizer = TfidfVectorizer()\n",
    "X_train_vectorized = vectorizer.fit_transform(X_train)\n",
    "\n",
    "# Create and train the Multinomial Naive Bayes classifier\n",
    "naive_bayes = MultinomialNB()\n",
    "naive_bayes.fit(X_train_vectorized, y_train)\n",
    "\n",
    "# Evaluate the classifier on the test set\n",
    "X_test_vectorized = vectorizer.transform(X_test)\n",
    "accuracy = naive_bayes.score(X_test_vectorized, y_test)\n",
    "\n",
    "print(\"Accuracy:\", accuracy)"
   ]
  },
  {
   "cell_type": "code",
   "execution_count": 99,
   "id": "87b5d780-163a-4d4e-92b7-731c53e3891c",
   "metadata": {},
   "outputs": [],
   "source": [
    "# Make predictions on the test data\n",
    "y_pred = naive_bayes.predict(X_test_vectorized)"
   ]
  },
  {
   "cell_type": "code",
   "execution_count": 86,
   "id": "bb52f3b3-8bef-4256-a11a-2fc6d7b61ca3",
   "metadata": {},
   "outputs": [
    {
     "name": "stdout",
     "output_type": "stream",
     "text": [
      "Precision: 0.9982898813815659\n",
      "Recall: 0.9982828282828283\n",
      "F1 score: 0.998282688311954\n"
     ]
    }
   ],
   "source": [
    "# Calculate precision\n",
    "precision = precision_score(y_test, y_pred, average='weighted')\n",
    "print(\"Precision:\", precision)\n",
    "\n",
    "# Calculate recall\n",
    "recall = recall_score(y_test, y_pred, average='weighted')\n",
    "print(\"Recall:\", recall)\n",
    "\n",
    "# Calculate F1 score\n",
    "f1 = f1_score(y_test, y_pred, average='weighted')\n",
    "print(\"F1 score:\", f1)"
   ]
  },
  {
   "cell_type": "code",
   "execution_count": 87,
   "id": "02f1440d-bf78-4b5e-a0f3-dbd6eb242f96",
   "metadata": {},
   "outputs": [
    {
     "name": "stdout",
     "output_type": "stream",
     "text": [
      "Confusion Matrix:\n",
      "[[895   0   0   0   0   0   0   0   0   0   0]\n",
      " [  0 909   0   0   0   0   0   0   0   0   0]\n",
      " [  0   1 878   0   0   0   0   0   0   0   0]\n",
      " [  0   0   0 940   1   0   0   0   0   0   0]\n",
      " [  0   0   0   0 918   0   0   0   0   0   0]\n",
      " [  0   2   0   0   0 906   0   0   0   0   0]\n",
      " [  1   0   0   0   1   0 880   0   0   0   0]\n",
      " [  0   0   0   0   0   0   0 857   0   0   0]\n",
      " [  0   0   0   0   0   0   0   0 936   0   0]\n",
      " [  0   0   2   0   0   0   0   0   0 919   1]\n",
      " [  0   2   5   0   0   0   0   0   0   1 845]]\n"
     ]
    },
    {
     "data": {
      "image/png": "[encoded data removed]",
      "text/plain": [
       "<Figure size 800x600 with 2 Axes>"
      ]
     },
     "metadata": {},
     "output_type": "display_data"
    }
   ],
   "source": [
    "cm = confusion_matrix(y_test, y_pred)\n",
    "print(\"Confusion Matrix:\")\n",
    "print(cm)\n",
    "\n",
    "# Plot the confusion matrix\n",
    "fig, ax = plt.subplots(figsize=(8, 6))\n",
    "ConfusionMatrixDisplay(confusion_matrix=cm, display_labels=naive_bayes.classes_).plot(ax=ax)\n",
    "plt.title('Confusion Matrix')\n",
    "plt.show()\n"
   ]
  },
  {
   "cell_type": "code",
   "execution_count": 88,
   "id": "2faee504-0c5f-4379-90f0-2c69ce646f7a",
   "metadata": {},
   "outputs": [
    {
     "data": {
      "text/plain": [
       "<Figure size 640x480 with 0 Axes>"
      ]
     },
     "metadata": {},
     "output_type": "display_data"
    }
   ],
   "source": [
    "plt.savefig('confusion_matrix.png')  # Save the confusion matrix plot"
   ]
  },
  {
   "cell_type": "code",
   "execution_count": 89,
   "id": "db40bbd4-98a9-45eb-b979-ddd5f394424a",
   "metadata": {},
   "outputs": [
    {
     "name": "stdout",
     "output_type": "stream",
     "text": [
      "              precision    recall  f1-score   support\n",
      "\n",
      "         afr       1.00      1.00      1.00       895\n",
      "         eng       0.99      1.00      1.00       909\n",
      "         nbl       0.99      1.00      1.00       879\n",
      "         nso       1.00      1.00      1.00       941\n",
      "         sot       1.00      1.00      1.00       918\n",
      "         ssw       1.00      1.00      1.00       908\n",
      "         tsn       1.00      1.00      1.00       882\n",
      "         tso       1.00      1.00      1.00       857\n",
      "         ven       1.00      1.00      1.00       936\n",
      "         xho       1.00      1.00      1.00       922\n",
      "         zul       1.00      0.99      0.99       853\n",
      "\n",
      "    accuracy                           1.00      9900\n",
      "   macro avg       1.00      1.00      1.00      9900\n",
      "weighted avg       1.00      1.00      1.00      9900\n",
      "\n"
     ]
    }
   ],
   "source": [
    "classification_rep = classification_report(y_test, y_pred)\n",
    "print(classification_rep)"
   ]
  },
  {
   "cell_type": "markdown",
   "id": "e440dfd7-e7cf-40fa-8584-795876b49ff9",
   "metadata": {},
   "source": [
    "### Evaluate the test data"
   ]
  },
  {
   "cell_type": "code",
   "execution_count": 90,
   "id": "19193249-096a-4ad1-b6e4-93a89fb92193",
   "metadata": {},
   "outputs": [],
   "source": [
    "df_test = pd.read_csv(\"data/cleaned_test_data.csv\")"
   ]
  },
  {
   "cell_type": "code",
   "execution_count": 91,
   "id": "97f8791a-126d-4638-b8ed-1fba6d2e24c7",
   "metadata": {},
   "outputs": [
    {
     "data": {
      "text/html": [
       "<div>\n",
       "<style scoped>\n",
       "    .dataframe tbody tr th:only-of-type {\n",
       "        vertical-align: middle;\n",
       "    }\n",
       "\n",
       "    .dataframe tbody tr th {\n",
       "        vertical-align: top;\n",
       "    }\n",
       "\n",
       "    .dataframe thead th {\n",
       "        text-align: right;\n",
       "    }\n",
       "</style>\n",
       "<table border=\"1\" class=\"dataframe\">\n",
       "  <thead>\n",
       "    <tr style=\"text-align: right;\">\n",
       "      <th></th>\n",
       "      <th>index</th>\n",
       "      <th>text</th>\n",
       "    </tr>\n",
       "  </thead>\n",
       "  <tbody>\n",
       "    <tr>\n",
       "      <th>0</th>\n",
       "      <td>1</td>\n",
       "      <td>mmasepala maemo kgethegileng letlelela kgato</td>\n",
       "    </tr>\n",
       "    <tr>\n",
       "      <th>1</th>\n",
       "      <td>2</td>\n",
       "      <td>uzakwaziswa ngokufaneleko nakungafuneka eminye...</td>\n",
       "    </tr>\n",
       "    <tr>\n",
       "      <th>2</th>\n",
       "      <td>3</td>\n",
       "      <td>tshivhumbeo tshi fana ngano dza vhathu</td>\n",
       "    </tr>\n",
       "    <tr>\n",
       "      <th>3</th>\n",
       "      <td>4</td>\n",
       "      <td>kube inja nelikati betingevakala kutsi titsini...</td>\n",
       "    </tr>\n",
       "    <tr>\n",
       "      <th>4</th>\n",
       "      <td>5</td>\n",
       "      <td>winste buitelandse valuta</td>\n",
       "    </tr>\n",
       "  </tbody>\n",
       "</table>\n",
       "</div>"
      ],
      "text/plain": [
       "   index                                               text\n",
       "0      1       mmasepala maemo kgethegileng letlelela kgato\n",
       "1      2  uzakwaziswa ngokufaneleko nakungafuneka eminye...\n",
       "2      3             tshivhumbeo tshi fana ngano dza vhathu\n",
       "3      4  kube inja nelikati betingevakala kutsi titsini...\n",
       "4      5                          winste buitelandse valuta"
      ]
     },
     "execution_count": 91,
     "metadata": {},
     "output_type": "execute_result"
    }
   ],
   "source": [
    "df_test.head()"
   ]
  },
  {
   "cell_type": "code",
   "execution_count": 92,
   "id": "17fbd9bf-2291-41f6-acfb-0b903aa5bedb",
   "metadata": {},
   "outputs": [],
   "source": [
    "# Convert text data into numerical representation\n",
    "X_test_final = vectorizer.transform(df_test['text'])\n",
    "\n",
    "# Make predictions on the test data\n",
    "y_pred_test = naive_bayes.predict(X_test_final)\n",
    "\n"
   ]
  },
  {
   "cell_type": "code",
   "execution_count": 93,
   "id": "a7b1c4cb-74c4-46db-a097-8005a1c8af6c",
   "metadata": {},
   "outputs": [
    {
     "data": {
      "text/plain": [
       "array(['tsn', 'nbl', 'ven', 'ssw', 'afr'], dtype='<U3')"
      ]
     },
     "execution_count": 93,
     "metadata": {},
     "output_type": "execute_result"
    }
   ],
   "source": [
    "y_pred_test[:5]"
   ]
  },
  {
   "cell_type": "code",
   "execution_count": null,
   "id": "f55a66a4-3de9-40aa-b334-f9301e45e68c",
   "metadata": {},
   "outputs": [],
   "source": []
  },
  {
   "cell_type": "code",
   "execution_count": null,
   "id": "f05f7349-a6cb-4f0e-aab2-3fd78050a6a8",
   "metadata": {},
   "outputs": [],
   "source": []
  },
  {
   "cell_type": "code",
   "execution_count": null,
   "id": "e35be81f-b100-4689-8919-5512dbcd8e92",
   "metadata": {},
   "outputs": [],
   "source": []
  },
  {
   "cell_type": "code",
   "execution_count": 94,
   "id": "5224918d-c5ca-438a-ae08-f98d41e9aa67",
   "metadata": {},
   "outputs": [],
   "source": [
    "# Create a DataFrame for submission\n",
    "submission_4 = df_test[['index']].copy()\n",
    "submission_4['lang_id'] = y_pred_test\n",
    "submission_4.columns = ['index', 'lang_id']\n",
    "\n",
    "# Save the submission DataFrame to a CSV file\n",
    "submission_4.to_csv('data/submission_4.csv', index=False)\n"
   ]
  },
  {
   "cell_type": "code",
   "execution_count": 95,
   "id": "7207071e-c014-4e6b-a89b-1f57cbf02114",
   "metadata": {},
   "outputs": [
    {
     "data": {
      "text/html": [
       "<div>\n",
       "<style scoped>\n",
       "    .dataframe tbody tr th:only-of-type {\n",
       "        vertical-align: middle;\n",
       "    }\n",
       "\n",
       "    .dataframe tbody tr th {\n",
       "        vertical-align: top;\n",
       "    }\n",
       "\n",
       "    .dataframe thead th {\n",
       "        text-align: right;\n",
       "    }\n",
       "</style>\n",
       "<table border=\"1\" class=\"dataframe\">\n",
       "  <thead>\n",
       "    <tr style=\"text-align: right;\">\n",
       "      <th></th>\n",
       "      <th>index</th>\n",
       "      <th>lang_id</th>\n",
       "    </tr>\n",
       "  </thead>\n",
       "  <tbody>\n",
       "    <tr>\n",
       "      <th>0</th>\n",
       "      <td>1</td>\n",
       "      <td>tsn</td>\n",
       "    </tr>\n",
       "    <tr>\n",
       "      <th>1</th>\n",
       "      <td>2</td>\n",
       "      <td>nbl</td>\n",
       "    </tr>\n",
       "    <tr>\n",
       "      <th>2</th>\n",
       "      <td>3</td>\n",
       "      <td>ven</td>\n",
       "    </tr>\n",
       "    <tr>\n",
       "      <th>3</th>\n",
       "      <td>4</td>\n",
       "      <td>ssw</td>\n",
       "    </tr>\n",
       "    <tr>\n",
       "      <th>4</th>\n",
       "      <td>5</td>\n",
       "      <td>afr</td>\n",
       "    </tr>\n",
       "    <tr>\n",
       "      <th>...</th>\n",
       "      <td>...</td>\n",
       "      <td>...</td>\n",
       "    </tr>\n",
       "    <tr>\n",
       "      <th>5677</th>\n",
       "      <td>5678</td>\n",
       "      <td>eng</td>\n",
       "    </tr>\n",
       "    <tr>\n",
       "      <th>5678</th>\n",
       "      <td>5679</td>\n",
       "      <td>nso</td>\n",
       "    </tr>\n",
       "    <tr>\n",
       "      <th>5679</th>\n",
       "      <td>5680</td>\n",
       "      <td>sot</td>\n",
       "    </tr>\n",
       "    <tr>\n",
       "      <th>5680</th>\n",
       "      <td>5681</td>\n",
       "      <td>sot</td>\n",
       "    </tr>\n",
       "    <tr>\n",
       "      <th>5681</th>\n",
       "      <td>5682</td>\n",
       "      <td>nbl</td>\n",
       "    </tr>\n",
       "  </tbody>\n",
       "</table>\n",
       "<p>5682 rows × 2 columns</p>\n",
       "</div>"
      ],
      "text/plain": [
       "      index lang_id\n",
       "0         1     tsn\n",
       "1         2     nbl\n",
       "2         3     ven\n",
       "3         4     ssw\n",
       "4         5     afr\n",
       "...     ...     ...\n",
       "5677   5678     eng\n",
       "5678   5679     nso\n",
       "5679   5680     sot\n",
       "5680   5681     sot\n",
       "5681   5682     nbl\n",
       "\n",
       "[5682 rows x 2 columns]"
      ]
     },
     "execution_count": 95,
     "metadata": {},
     "output_type": "execute_result"
    }
   ],
   "source": [
    "submission_4"
   ]
  },
  {
   "cell_type": "code",
   "execution_count": 96,
   "id": "946554b3-efe2-45a9-9608-8b03845f51c3",
   "metadata": {},
   "outputs": [
    {
     "name": "stderr",
     "output_type": "stream",
     "text": [
      "\u001b[1;38;5;196mCOMET ERROR:\u001b[0m We failed to read file confusion_matrix for uploading.\n",
      "Please double-check the file path and permissions\n",
      "\u001b[1;38;5;214mCOMET WARNING:\u001b[0m Passed step value '              precision    recall  f1-score   support\\n\\n         afr       1.00      1.00      1.00       895\\n         eng       0.99      1.00      1.00       909\\n         nbl       0.99      1.00      1.00       879\\n         nso       1.00      1.00      1.00       941\\n         sot       1.00      1.00      1.00       918\\n         ssw       1.00      1.00      1.00       908\\n         tsn       1.00      1.00      1.00       882\\n         tso       1.00      1.00      1.00       857\\n         ven       1.00      1.00      1.00       936\\n         xho       1.00      1.00      1.00       922\\n         zul       1.00      0.99      0.99       853\\n\\n    accuracy                           1.00      9900\\n   macro avg       1.00      1.00      1.00      9900\\nweighted avg       1.00      1.00      1.00      9900\\n' is not a number, ignoring it\n"
     ]
    },
    {
     "data": {
      "text/plain": [
       "{'web': 'https://www.comet.com/api/asset/download?assetId=0cce9b6a7d0b43b0b209dd1d48b6f053&experimentKey=17a5245009544ab787e420397e8bc069',\n",
       " 'api': 'https://www.comet.com/api/rest/v2/experiment/asset/get-asset?assetId=0cce9b6a7d0b43b0b209dd1d48b6f053&experimentKey=17a5245009544ab787e420397e8bc069',\n",
       " 'assetId': '0cce9b6a7d0b43b0b209dd1d48b6f053'}"
      ]
     },
     "execution_count": 96,
     "metadata": {},
     "output_type": "execute_result"
    }
   ],
   "source": [
    "# Log the metrics to Comet\n",
    "experiment.log_metric('accuracy', accuracy)\n",
    "experiment.log_metric('precision', precision)\n",
    "experiment.log_metric('recall', recall)\n",
    "experiment.log_metric('f1_score', f1)\n",
    "\n",
    "# Log the confusion matrix\n",
    "\n",
    "experiment.log_image('confusion_matrix', 'confusion_matrix.png')\n",
    "\n",
    "# Log the classification report\n",
    "experiment.log_text('classification_report', classification_rep)"
   ]
  },
  {
   "cell_type": "code",
   "execution_count": 97,
   "id": "298da8be-1cde-4841-9b8d-a642dca27c8a",
   "metadata": {},
   "outputs": [
    {
     "name": "stderr",
     "output_type": "stream",
     "text": [
      "\u001b[1;38;5;39mCOMET INFO:\u001b[0m ---------------------------------------------------------------------------------------\n",
      "\u001b[1;38;5;39mCOMET INFO:\u001b[0m Comet.ml Experiment Summary\n",
      "\u001b[1;38;5;39mCOMET INFO:\u001b[0m ---------------------------------------------------------------------------------------\n",
      "\u001b[1;38;5;39mCOMET INFO:\u001b[0m   Data:\n",
      "\u001b[1;38;5;39mCOMET INFO:\u001b[0m     display_summary_level : 1\n",
      "\u001b[1;38;5;39mCOMET INFO:\u001b[0m     url                   : https://www.comet.com/deolabeeb/explore-hackathon/17a5245009544ab787e420397e8bc069\n",
      "\u001b[1;38;5;39mCOMET INFO:\u001b[0m   Metrics:\n",
      "\u001b[1;38;5;39mCOMET INFO:\u001b[0m     accuracy  : 0.9982828282828283\n",
      "\u001b[1;38;5;39mCOMET INFO:\u001b[0m     f1_score  : 0.998282688311954\n",
      "\u001b[1;38;5;39mCOMET INFO:\u001b[0m     precision : 0.9982898813815659\n",
      "\u001b[1;38;5;39mCOMET INFO:\u001b[0m     recall    : 0.9982828282828283\n",
      "\u001b[1;38;5;39mCOMET INFO:\u001b[0m   Parameters:\n",
      "\u001b[1;38;5;39mCOMET INFO:\u001b[0m     alpha         : 1.0\n",
      "\u001b[1;38;5;39mCOMET INFO:\u001b[0m     class_prior   : 1\n",
      "\u001b[1;38;5;39mCOMET INFO:\u001b[0m     fit_prior     : True\n",
      "\u001b[1;38;5;39mCOMET INFO:\u001b[0m     force_alpha   : warn\n",
      "\u001b[1;38;5;39mCOMET INFO:\u001b[0m     neg_label     : 0\n",
      "\u001b[1;38;5;39mCOMET INFO:\u001b[0m     norm          : l2\n",
      "\u001b[1;38;5;39mCOMET INFO:\u001b[0m     pos_label     : 1\n",
      "\u001b[1;38;5;39mCOMET INFO:\u001b[0m     smooth_idf    : True\n",
      "\u001b[1;38;5;39mCOMET INFO:\u001b[0m     sparse_output : False\n",
      "\u001b[1;38;5;39mCOMET INFO:\u001b[0m     sublinear_tf  : False\n",
      "\u001b[1;38;5;39mCOMET INFO:\u001b[0m     use_idf       : True\n",
      "\u001b[1;38;5;39mCOMET INFO:\u001b[0m   Uploads:\n",
      "\u001b[1;38;5;39mCOMET INFO:\u001b[0m     conda-environment-definition : 1\n",
      "\u001b[1;38;5;39mCOMET INFO:\u001b[0m     conda-info                   : 1\n",
      "\u001b[1;38;5;39mCOMET INFO:\u001b[0m     conda-specification          : 1\n",
      "\u001b[1;38;5;39mCOMET INFO:\u001b[0m     environment details          : 1\n",
      "\u001b[1;38;5;39mCOMET INFO:\u001b[0m     filename                     : 1\n",
      "\u001b[1;38;5;39mCOMET INFO:\u001b[0m     git metadata                 : 1\n",
      "\u001b[1;38;5;39mCOMET INFO:\u001b[0m     git-patch (uncompressed)     : 1 (66.51 KB)\n",
      "\u001b[1;38;5;39mCOMET INFO:\u001b[0m     installed packages           : 1\n",
      "\u001b[1;38;5;39mCOMET INFO:\u001b[0m     notebook                     : 1\n",
      "\u001b[1;38;5;39mCOMET INFO:\u001b[0m     source_code                  : 1\n",
      "\u001b[1;38;5;39mCOMET INFO:\u001b[0m     text-sample                  : 1\n",
      "\u001b[1;38;5;39mCOMET INFO:\u001b[0m \n",
      "\u001b[1;38;5;39mCOMET INFO:\u001b[0m Please wait for metadata to finish uploading (timeout is 3600 seconds)\n"
     ]
    }
   ],
   "source": [
    "experiment.end()"
   ]
  },
  {
   "cell_type": "code",
   "execution_count": null,
   "id": "72bce465-c566-4d78-920d-dde4cbcf5641",
   "metadata": {},
   "outputs": [
    {
     "data": {
      "text/html": [
       "\n",
       "        <iframe\n",
       "            width=\"100%\"\n",
       "            height=\"800px\"\n",
       "            src=\"https://www.comet.com/deolabeeb/explore-hackathon/17a5245009544ab787e420397e8bc069\"\n",
       "            frameborder=\"0\"\n",
       "            allowfullscreen\n",
       "            \n",
       "        ></iframe>\n",
       "        "
      ],
      "text/plain": [
       "<IPython.lib.display.IFrame at 0x201b75b0>"
      ]
     },
     "metadata": {},
     "output_type": "display_data"
    }
   ],
   "source": [
    "experiment.display()"
   ]
  }
 ],
 "metadata": {
  "kernelspec": {
   "display_name": "Python 3 (ipykernel)",
   "language": "python",
   "name": "python3"
  },
  "language_info": {
   "codemirror_mode": {
    "name": "ipython",
    "version": 3
   },
   "file_extension": ".py",
   "mimetype": "text/x-python",
   "name": "python",
   "nbconvert_exporter": "python",
   "pygments_lexer": "ipython3",
   "version": "3.10.9"
  }
 },
 "nbformat": 4,
 "nbformat_minor": 5
}
