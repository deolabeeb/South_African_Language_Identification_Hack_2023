{
 "cells": [
  {
   "cell_type": "code",
   "execution_count": 1,
   "id": "b43f1070-030c-4fe2-84ca-ce438808ba91",
   "metadata": {},
   "outputs": [],
   "source": [
    "from comet_ml import Experiment"
   ]
  },
  {
   "cell_type": "code",
   "execution_count": 2,
   "id": "b2a34fd8-c3df-4463-af1d-47a005a246e6",
   "metadata": {},
   "outputs": [
    {
     "name": "stderr",
     "output_type": "stream",
     "text": [
      "\u001b[1;38;5;214mCOMET WARNING:\u001b[0m As you are running in a Jupyter environment, you will need to call `experiment.end()` when finished to ensure all metrics and code are logged before exiting.\n",
      "\u001b[1;38;5;39mCOMET INFO:\u001b[0m Experiment is live on comet.com https://www.comet.com/deolabeeb/explore-hackathon/4f45a1914297451fbe92641dbe6c3326\n",
      "\n"
     ]
    }
   ],
   "source": [
    "from comet_ml import Experiment\n",
    "experiment = Experiment(\n",
    "  api_key = \"gFC2BZfeX7KSnZwINu6BF7IcJ\",\n",
    "  project_name = \"explore-hackathon\",\n",
    "  workspace=\"deolabeeb\"\n",
    ")"
   ]
  },
  {
   "cell_type": "code",
   "execution_count": 3,
   "id": "75b3d814-d151-4407-bd31-9d7575ff8f0b",
   "metadata": {},
   "outputs": [],
   "source": [
    "import pandas as pd\n",
    "import numpy as np\n",
    "import matplotlib.pyplot as plt\n",
    "import seaborn as sns\n",
    "\n",
    "from sklearn.naive_bayes import GaussianNB\n",
    "from sklearn.neighbors import KNeighborsClassifier\n",
    "from sklearn.naive_bayes import MultinomialNB\n",
    "import joblib\n",
    "\n",
    "from sklearn.feature_extraction.text import TfidfVectorizer, CountVectorizer\n",
    "from sklearn.model_selection import train_test_split\n",
    "from sklearn.linear_model import LogisticRegression\n",
    "from sklearn.metrics import (accuracy_score, precision_score, recall_score, confusion_matrix,\n",
    "                             ConfusionMatrixDisplay, roc_curve, f1_score, roc_auc_score,\n",
    "                             classification_report)\n",
    "from sklearn.pipeline import Pipeline\n",
    "from sklearn.model_selection import GridSearchCV\n",
    "import pickle as pk\n",
    "import joblib as jb\n",
    "import warnings\n",
    "warnings.filterwarnings('ignore')"
   ]
  },
  {
   "cell_type": "code",
   "execution_count": 4,
   "id": "4575ba8f-4393-4786-8f30-52bb29dedde6",
   "metadata": {},
   "outputs": [],
   "source": [
    "df_train = pd.read_csv(\"data/cleaned_data.csv\")"
   ]
  },
  {
   "cell_type": "code",
   "execution_count": 5,
   "id": "67f32abe-04ad-4d41-9860-5d50cca82ae0",
   "metadata": {},
   "outputs": [],
   "source": [
    "X = df_train['text']\n",
    "y = df_train['lang_id']"
   ]
  },
  {
   "cell_type": "markdown",
   "id": "cf417cf5-14b9-410b-ae47-549c6734dde9",
   "metadata": {},
   "source": [
    "### Adding hyper parameters to TfidfVectorizer()"
   ]
  },
  {
   "cell_type": "code",
   "execution_count": 6,
   "id": "9c0b7dbc-8d01-48aa-a184-c4b5237d3eeb",
   "metadata": {},
   "outputs": [
    {
     "name": "stdout",
     "output_type": "stream",
     "text": [
      "Accuracy: 0.9991919191919192\n"
     ]
    }
   ],
   "source": [
    "# Split the data into training and testing sets\n",
    "X_train, X_test, y_train, y_test = train_test_split(df_train['text'], df_train['lang_id'], test_size=0.30, random_state=42)\n",
    "\n",
    "\n",
    "\n",
    "# Define the stop words for South African official languages\n",
    "stop_words_sa = ['english', 'afrikaans', 'ndebele', 'sotho', 'swazi', 'tsonga', 'tswana', 'venda', 'xhosa', 'zulu']\n",
    "\n",
    "# Define the hyperparameters for TfidfVectorizer\n",
    "tfidf_params = {\n",
    "    'max_features': 180000,\n",
    "    'ngram_range': (1, 2),\n",
    "    'stop_words': stop_words_sa,  # Include stop words for South African official languages\n",
    "    'sublinear_tf': True,\n",
    "    'use_idf': True,\n",
    "    'smooth_idf': True\n",
    "}\n",
    "\n",
    "# Create the TfidfVectorizer with the specified hyperparameters\n",
    "vectorizer = TfidfVectorizer(**tfidf_params)\n",
    "X_train_vectorized = vectorizer.fit_transform(X_train)                           \n",
    "                             \n",
    "# Create and train the Multinomial Naive Bayes classifier with best parameters\n",
    "naive_bayes = MultinomialNB(alpha=0.1, fit_prior=False)\n",
    "\n",
    "# Add more hyperparameters\n",
    "naive_bayes.set_params(alpha=0.1, fit_prior=True)\n",
    "naive_bayes.fit(X_train_vectorized, y_train)\n",
    "                          \n",
    "# Evaluate the classifier on the test set\n",
    "X_test_vectorized = vectorizer.transform(X_test)\n",
    "accuracy = naive_bayes.score(X_test_vectorized, y_test)\n",
    "\n",
    "print(\"Accuracy:\", accuracy)"
   ]
  },
  {
   "cell_type": "code",
   "execution_count": 7,
   "id": "4263ad3a-51a1-40f5-a22b-62e15508a1c2",
   "metadata": {},
   "outputs": [],
   "source": [
    "# Make predictions on the test data\n",
    "y_pred = naive_bayes.predict(X_test_vectorized)"
   ]
  },
  {
   "cell_type": "code",
   "execution_count": 8,
   "id": "3fe08fcc-9a92-4834-b14e-b46b032db55f",
   "metadata": {},
   "outputs": [
    {
     "name": "stdout",
     "output_type": "stream",
     "text": [
      "Precision: 0.9991923671808949\n",
      "Recall: 0.9991919191919192\n",
      "F1 score: 0.9991916930294164\n"
     ]
    }
   ],
   "source": [
    "# Calculate precision\n",
    "precision = precision_score(y_test, y_pred, average='weighted')\n",
    "print(\"Precision:\", precision)\n",
    "\n",
    "# Calculate recall\n",
    "recall = recall_score(y_test, y_pred, average='weighted')\n",
    "print(\"Recall:\", recall)\n",
    "\n",
    "# Calculate F1 score\n",
    "f1 = f1_score(y_test, y_pred, average='weighted')\n",
    "print(\"F1 score:\", f1)"
   ]
  },
  {
   "cell_type": "code",
   "execution_count": 9,
   "id": "7d9710e6-a022-48e3-ab61-9903b9b388e7",
   "metadata": {},
   "outputs": [
    {
     "name": "stdout",
     "output_type": "stream",
     "text": [
      "Confusion Matrix:\n",
      "[[895   0   0   0   0   0   0   0   0   0   0]\n",
      " [  0 909   0   0   0   0   0   0   0   0   0]\n",
      " [  0   0 879   0   0   0   0   0   0   0   0]\n",
      " [  0   0   0 940   1   0   0   0   0   0   0]\n",
      " [  0   0   0   0 918   0   0   0   0   0   0]\n",
      " [  0   0   0   0   0 908   0   0   0   0   0]\n",
      " [  1   0   0   1   0   0 880   0   0   0   0]\n",
      " [  0   0   0   0   0   0   0 857   0   0   0]\n",
      " [  0   0   0   0   0   0   0   0 936   0   0]\n",
      " [  1   0   1   0   0   0   0   0   0 919   1]\n",
      " [  0   1   0   0   0   0   0   0   0   1 851]]\n"
     ]
    },
    {
     "data": {
      "image/png": "[encoded data removed]",
      "text/plain": [
       "<Figure size 800x600 with 2 Axes>"
      ]
     },
     "metadata": {},
     "output_type": "display_data"
    }
   ],
   "source": [
    "cm = confusion_matrix(y_test, y_pred)\n",
    "print(\"Confusion Matrix:\")\n",
    "print(cm)\n",
    "\n",
    "# Plot the confusion matrix\n",
    "fig, ax = plt.subplots(figsize=(8, 6))\n",
    "ConfusionMatrixDisplay(confusion_matrix=cm, display_labels=naive_bayes.classes_).plot(ax=ax)\n",
    "plt.title('Confusion Matrix')\n",
    "plt.show()"
   ]
  },
  {
   "cell_type": "code",
   "execution_count": 10,
   "id": "60ae4566-3536-4cb1-9a59-16820c9a592c",
   "metadata": {},
   "outputs": [
    {
     "name": "stdout",
     "output_type": "stream",
     "text": [
      "              precision    recall  f1-score   support\n",
      "\n",
      "         afr       1.00      1.00      1.00       895\n",
      "         eng       1.00      1.00      1.00       909\n",
      "         nbl       1.00      1.00      1.00       879\n",
      "         nso       1.00      1.00      1.00       941\n",
      "         sot       1.00      1.00      1.00       918\n",
      "         ssw       1.00      1.00      1.00       908\n",
      "         tsn       1.00      1.00      1.00       882\n",
      "         tso       1.00      1.00      1.00       857\n",
      "         ven       1.00      1.00      1.00       936\n",
      "         xho       1.00      1.00      1.00       922\n",
      "         zul       1.00      1.00      1.00       853\n",
      "\n",
      "    accuracy                           1.00      9900\n",
      "   macro avg       1.00      1.00      1.00      9900\n",
      "weighted avg       1.00      1.00      1.00      9900\n",
      "\n"
     ]
    }
   ],
   "source": [
    "classification_rep = classification_report(y_test, y_pred)\n",
    "print(classification_rep)"
   ]
  },
  {
   "cell_type": "code",
   "execution_count": 11,
   "id": "876dd35a-1273-4353-81a6-5821adbba84f",
   "metadata": {},
   "outputs": [],
   "source": [
    "df_test = pd.read_csv(\"data/cleaned_test_data.csv\")"
   ]
  },
  {
   "cell_type": "code",
   "execution_count": 15,
   "id": "dd8f624d-8c0c-4f5b-bc8d-86de6c6cdba1",
   "metadata": {},
   "outputs": [],
   "source": [
    "# Convert text data into numerical representation\n",
    "X_test_final = vectorizer.transform(df_test['text'])\n",
    "\n",
    "# Make predictions on the test data\n",
    "y_pred_test_6 = naive_bayes.predict(X_test_final)\n"
   ]
  },
  {
   "cell_type": "code",
   "execution_count": 16,
   "id": "e60e8a50-7316-4a7e-89c7-192595a0b10f",
   "metadata": {},
   "outputs": [],
   "source": [
    "\n",
    "# Create a DataFrame for submission\n",
    "submission_6 = df_test[['index']].copy()\n",
    "submission_6['lang_id'] = y_pred_test_5\n",
    "submission_6.columns = ['index', 'lang_id']\n",
    "\n",
    "# Save the submission DataFrame to a CSV file\n",
    "submission_6.to_csv('data/submission_6.csv', index=False)"
   ]
  },
  {
   "cell_type": "code",
   "execution_count": 17,
   "id": "8b78c258-e0b1-4622-833f-fedf8a1bbab7",
   "metadata": {},
   "outputs": [
    {
     "data": {
      "text/html": [
       "<div>\n",
       "<style scoped>\n",
       "    .dataframe tbody tr th:only-of-type {\n",
       "        vertical-align: middle;\n",
       "    }\n",
       "\n",
       "    .dataframe tbody tr th {\n",
       "        vertical-align: top;\n",
       "    }\n",
       "\n",
       "    .dataframe thead th {\n",
       "        text-align: right;\n",
       "    }\n",
       "</style>\n",
       "<table border=\"1\" class=\"dataframe\">\n",
       "  <thead>\n",
       "    <tr style=\"text-align: right;\">\n",
       "      <th></th>\n",
       "      <th>index</th>\n",
       "      <th>lang_id</th>\n",
       "    </tr>\n",
       "  </thead>\n",
       "  <tbody>\n",
       "    <tr>\n",
       "      <th>0</th>\n",
       "      <td>1</td>\n",
       "      <td>tsn</td>\n",
       "    </tr>\n",
       "    <tr>\n",
       "      <th>1</th>\n",
       "      <td>2</td>\n",
       "      <td>nbl</td>\n",
       "    </tr>\n",
       "    <tr>\n",
       "      <th>2</th>\n",
       "      <td>3</td>\n",
       "      <td>ven</td>\n",
       "    </tr>\n",
       "    <tr>\n",
       "      <th>3</th>\n",
       "      <td>4</td>\n",
       "      <td>ssw</td>\n",
       "    </tr>\n",
       "    <tr>\n",
       "      <th>4</th>\n",
       "      <td>5</td>\n",
       "      <td>afr</td>\n",
       "    </tr>\n",
       "    <tr>\n",
       "      <th>...</th>\n",
       "      <td>...</td>\n",
       "      <td>...</td>\n",
       "    </tr>\n",
       "    <tr>\n",
       "      <th>5677</th>\n",
       "      <td>5678</td>\n",
       "      <td>eng</td>\n",
       "    </tr>\n",
       "    <tr>\n",
       "      <th>5678</th>\n",
       "      <td>5679</td>\n",
       "      <td>nso</td>\n",
       "    </tr>\n",
       "    <tr>\n",
       "      <th>5679</th>\n",
       "      <td>5680</td>\n",
       "      <td>sot</td>\n",
       "    </tr>\n",
       "    <tr>\n",
       "      <th>5680</th>\n",
       "      <td>5681</td>\n",
       "      <td>sot</td>\n",
       "    </tr>\n",
       "    <tr>\n",
       "      <th>5681</th>\n",
       "      <td>5682</td>\n",
       "      <td>nbl</td>\n",
       "    </tr>\n",
       "  </tbody>\n",
       "</table>\n",
       "<p>5682 rows × 2 columns</p>\n",
       "</div>"
      ],
      "text/plain": [
       "      index lang_id\n",
       "0         1     tsn\n",
       "1         2     nbl\n",
       "2         3     ven\n",
       "3         4     ssw\n",
       "4         5     afr\n",
       "...     ...     ...\n",
       "5677   5678     eng\n",
       "5678   5679     nso\n",
       "5679   5680     sot\n",
       "5680   5681     sot\n",
       "5681   5682     nbl\n",
       "\n",
       "[5682 rows x 2 columns]"
      ]
     },
     "execution_count": 17,
     "metadata": {},
     "output_type": "execute_result"
    }
   ],
   "source": [
    "submission_6"
   ]
  },
  {
   "cell_type": "code",
   "execution_count": 21,
   "id": "4cc40fbe-7e3b-4107-a1c9-06315c05f0c7",
   "metadata": {},
   "outputs": [
    {
     "data": {
      "text/plain": [
       "['data/NEW_GRID_KNN_model.pkl']"
      ]
     },
     "execution_count": 21,
     "metadata": {},
     "output_type": "execute_result"
    }
   ],
   "source": [
    "# Save the trained model\n",
    "joblib.dump(naive_bayes, 'data/NEW_GRID_KNN_model.pkl')"
   ]
  },
  {
   "cell_type": "code",
   "execution_count": 22,
   "id": "c4f9ce25-8ffb-435e-b2f3-2840a1e8528c",
   "metadata": {},
   "outputs": [
    {
     "name": "stderr",
     "output_type": "stream",
     "text": [
      "\u001b[1;38;5;196mCOMET ERROR:\u001b[0m We failed to read file confusion_matrix for uploading.\n",
      "Please double-check the file path and permissions\n",
      "\u001b[1;38;5;214mCOMET WARNING:\u001b[0m Passed step value '              precision    recall  f1-score   support\\n\\n         afr       1.00      1.00      1.00       895\\n         eng       1.00      1.00      1.00       909\\n         nbl       1.00      1.00      1.00       879\\n         nso       1.00      1.00      1.00       941\\n         sot       1.00      1.00      1.00       918\\n         ssw       1.00      1.00      1.00       908\\n         tsn       1.00      1.00      1.00       882\\n         tso       1.00      1.00      1.00       857\\n         ven       1.00      1.00      1.00       936\\n         xho       1.00      1.00      1.00       922\\n         zul       1.00      1.00      1.00       853\\n\\n    accuracy                           1.00      9900\\n   macro avg       1.00      1.00      1.00      9900\\nweighted avg       1.00      1.00      1.00      9900\\n' is not a number, ignoring it\n"
     ]
    },
    {
     "data": {
      "text/plain": [
       "{'web': 'https://www.comet.com/api/asset/download?assetId=0cbb53f6cd7a486385265f0c140178eb&experimentKey=4f45a1914297451fbe92641dbe6c3326',\n",
       " 'api': 'https://www.comet.com/api/rest/v2/experiment/asset/get-asset?assetId=0cbb53f6cd7a486385265f0c140178eb&experimentKey=4f45a1914297451fbe92641dbe6c3326',\n",
       " 'assetId': '0cbb53f6cd7a486385265f0c140178eb'}"
      ]
     },
     "execution_count": 22,
     "metadata": {},
     "output_type": "execute_result"
    }
   ],
   "source": [
    "# Log the metrics to Comet\n",
    "experiment.log_metric('accuracy', accuracy)\n",
    "experiment.log_metric('precision', precision)\n",
    "experiment.log_metric('recall', recall)\n",
    "experiment.log_metric('f1_score', f1)\n",
    "\n",
    "# Log the confusion matrix\n",
    "\n",
    "experiment.log_image('confusion_matrix', 'confusion_matrix.png')\n",
    "\n",
    "# Log the classification report\n",
    "experiment.log_text('classification_report', classification_rep)"
   ]
  },
  {
   "cell_type": "code",
   "execution_count": 23,
   "id": "032e516a-e9dc-4fdf-a53d-099ad64ed41f",
   "metadata": {},
   "outputs": [
    {
     "name": "stderr",
     "output_type": "stream",
     "text": [
      "\u001b[1;38;5;39mCOMET INFO:\u001b[0m ---------------------------------------------------------------------------------------\n",
      "\u001b[1;38;5;39mCOMET INFO:\u001b[0m Comet.ml Experiment Summary\n",
      "\u001b[1;38;5;39mCOMET INFO:\u001b[0m ---------------------------------------------------------------------------------------\n",
      "\u001b[1;38;5;39mCOMET INFO:\u001b[0m   Data:\n",
      "\u001b[1;38;5;39mCOMET INFO:\u001b[0m     display_summary_level : 1\n",
      "\u001b[1;38;5;39mCOMET INFO:\u001b[0m     url                   : https://www.comet.com/deolabeeb/explore-hackathon/4f45a1914297451fbe92641dbe6c3326\n",
      "\u001b[1;38;5;39mCOMET INFO:\u001b[0m   Metrics:\n",
      "\u001b[1;38;5;39mCOMET INFO:\u001b[0m     accuracy  : 0.9986868686868687\n",
      "\u001b[1;38;5;39mCOMET INFO:\u001b[0m     f1_score  : 0.9991916930294164\n",
      "\u001b[1;38;5;39mCOMET INFO:\u001b[0m     precision : 0.9991923671808949\n",
      "\u001b[1;38;5;39mCOMET INFO:\u001b[0m     recall    : 0.9991919191919192\n",
      "\u001b[1;38;5;39mCOMET INFO:\u001b[0m   Parameters:\n",
      "\u001b[1;38;5;39mCOMET INFO:\u001b[0m     alpha                                 : 0.5734102355105745\n",
      "\u001b[1;38;5;39mCOMET INFO:\u001b[0m     class_prior                           : 1\n",
      "\u001b[1;38;5;39mCOMET INFO:\u001b[0m     copy_X_train                          : True\n",
      "\u001b[1;38;5;39mCOMET INFO:\u001b[0m     fit_prior                             : True\n",
      "\u001b[1;38;5;39mCOMET INFO:\u001b[0m     force_alpha                           : warn\n",
      "\u001b[1;38;5;39mCOMET INFO:\u001b[0m     kernel                                : 1**2 * Matern(length_scale=1, nu=2.5) + WhiteKernel(noise_level=1)\n",
      "\u001b[1;38;5;39mCOMET INFO:\u001b[0m     kernel__k1                            : 1**2 * Matern(length_scale=1, nu=2.5)\n",
      "\u001b[1;38;5;39mCOMET INFO:\u001b[0m     kernel__k1__k1                        : 1**2\n",
      "\u001b[1;38;5;39mCOMET INFO:\u001b[0m     kernel__k1__k1__constant_value        : 1.0\n",
      "\u001b[1;38;5;39mCOMET INFO:\u001b[0m     kernel__k1__k1__constant_value_bounds : (0.01, 1000.0)\n",
      "\u001b[1;38;5;39mCOMET INFO:\u001b[0m     kernel__k1__k2                        : Matern(length_scale=1, nu=2.5)\n",
      "\u001b[1;38;5;39mCOMET INFO:\u001b[0m     kernel__k1__k2__length_scale          : 1.0\n",
      "\u001b[1;38;5;39mCOMET INFO:\u001b[0m     kernel__k1__k2__length_scale_bounds   : [(0.01, 100)]\n",
      "\u001b[1;38;5;39mCOMET INFO:\u001b[0m     kernel__k1__k2__nu                    : 2.5\n",
      "\u001b[1;38;5;39mCOMET INFO:\u001b[0m     kernel__k2                            : WhiteKernel(noise_level=1)\n",
      "\u001b[1;38;5;39mCOMET INFO:\u001b[0m     kernel__k2__noise_level               : 1.0\n",
      "\u001b[1;38;5;39mCOMET INFO:\u001b[0m     kernel__k2__noise_level_bounds        : (1e-05, 100000.0)\n",
      "\u001b[1;38;5;39mCOMET INFO:\u001b[0m     n_restarts_optimizer                  : 2\n",
      "\u001b[1;38;5;39mCOMET INFO:\u001b[0m     neg_label                             : 0\n",
      "\u001b[1;38;5;39mCOMET INFO:\u001b[0m     noise                                 : gaussian\n",
      "\u001b[1;38;5;39mCOMET INFO:\u001b[0m     norm                                  : l2\n",
      "\u001b[1;38;5;39mCOMET INFO:\u001b[0m     normalize_y                           : True\n",
      "\u001b[1;38;5;39mCOMET INFO:\u001b[0m     optimizer                             : fmin_l_bfgs_b\n",
      "\u001b[1;38;5;39mCOMET INFO:\u001b[0m     pos_label                             : 1\n",
      "\u001b[1;38;5;39mCOMET INFO:\u001b[0m     random_state                          : 1343380856\n",
      "\u001b[1;38;5;39mCOMET INFO:\u001b[0m     smooth_idf                            : True\n",
      "\u001b[1;38;5;39mCOMET INFO:\u001b[0m     sparse_output                         : False\n",
      "\u001b[1;38;5;39mCOMET INFO:\u001b[0m     sublinear_tf                          : True\n",
      "\u001b[1;38;5;39mCOMET INFO:\u001b[0m     use_idf                               : True\n",
      "\u001b[1;38;5;39mCOMET INFO:\u001b[0m   Uploads:\n",
      "\u001b[1;38;5;39mCOMET INFO:\u001b[0m     conda-environment-definition : 1\n",
      "\u001b[1;38;5;39mCOMET INFO:\u001b[0m     conda-info                   : 1\n",
      "\u001b[1;38;5;39mCOMET INFO:\u001b[0m     conda-specification          : 1\n",
      "\u001b[1;38;5;39mCOMET INFO:\u001b[0m     environment details          : 1\n",
      "\u001b[1;38;5;39mCOMET INFO:\u001b[0m     filename                     : 1\n",
      "\u001b[1;38;5;39mCOMET INFO:\u001b[0m     git metadata                 : 1\n",
      "\u001b[1;38;5;39mCOMET INFO:\u001b[0m     git-patch (uncompressed)     : 1 (63.31 KB)\n",
      "\u001b[1;38;5;39mCOMET INFO:\u001b[0m     installed packages           : 1\n",
      "\u001b[1;38;5;39mCOMET INFO:\u001b[0m     notebook                     : 1\n",
      "\u001b[1;38;5;39mCOMET INFO:\u001b[0m     source_code                  : 1\n",
      "\u001b[1;38;5;39mCOMET INFO:\u001b[0m     text-sample                  : 1\n",
      "\u001b[1;38;5;39mCOMET INFO:\u001b[0m \n",
      "\u001b[1;38;5;39mCOMET INFO:\u001b[0m Please wait for metadata to finish uploading (timeout is 3600 seconds)\n"
     ]
    }
   ],
   "source": [
    "experiment.end()"
   ]
  },
  {
   "cell_type": "code",
   "execution_count": 24,
   "id": "7ae93e88-8ed7-4749-8cc6-8f31082e3402",
   "metadata": {},
   "outputs": [
    {
     "data": {
      "text/html": [
       "\n",
       "        <iframe\n",
       "            width=\"100%\"\n",
       "            height=\"800px\"\n",
       "            src=\"https://www.comet.com/deolabeeb/explore-hackathon/4f45a1914297451fbe92641dbe6c3326\"\n",
       "            frameborder=\"0\"\n",
       "            allowfullscreen\n",
       "            \n",
       "        ></iframe>\n",
       "        "
      ],
      "text/plain": [
       "<IPython.lib.display.IFrame at 0xed3f400>"
      ]
     },
     "metadata": {},
     "output_type": "display_data"
    }
   ],
   "source": [
    "experiment.display()"
   ]
  }
 ],
 "metadata": {
  "kernelspec": {
   "display_name": "Python 3 (ipykernel)",
   "language": "python",
   "name": "python3"
  },
  "language_info": {
   "codemirror_mode": {
    "name": "ipython",
    "version": 3
   },
   "file_extension": ".py",
   "mimetype": "text/x-python",
   "name": "python",
   "nbconvert_exporter": "python",
   "pygments_lexer": "ipython3",
   "version": "3.10.9"
  }
 },
 "nbformat": 4,
 "nbformat_minor": 5
}
