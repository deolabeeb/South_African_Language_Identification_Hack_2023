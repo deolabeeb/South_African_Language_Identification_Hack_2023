{
 "cells": [
  {
   "cell_type": "code",
   "execution_count": 1,
   "id": "54661f19-6796-4835-be5d-174c1a3044b1",
   "metadata": {},
   "outputs": [],
   "source": [
    "from comet_ml import Experiment"
   ]
  },
  {
   "cell_type": "code",
   "execution_count": 2,
   "id": "bd311d72-aad6-4093-847b-c0757f786e42",
   "metadata": {},
   "outputs": [
    {
     "name": "stderr",
     "output_type": "stream",
     "text": [
      "\u001b[1;38;5;214mCOMET WARNING:\u001b[0m As you are running in a Jupyter environment, you will need to call `experiment.end()` when finished to ensure all metrics and code are logged before exiting.\n",
      "\u001b[1;38;5;39mCOMET INFO:\u001b[0m Experiment is live on comet.com https://www.comet.com/deolabeeb/explore-hackathon/de6885a1fb134b63af45a8a38242b852\n",
      "\n"
     ]
    }
   ],
   "source": [
    "from comet_ml import Experiment\n",
    "experiment = Experiment(\n",
    "  api_key = \"gFC2BZfeX7KSnZwINu6BF7IcJ\",\n",
    "  project_name = \"explore-hackathon\",\n",
    "  workspace=\"deolabeeb\"\n",
    ")"
   ]
  },
  {
   "cell_type": "code",
   "execution_count": 22,
   "id": "260528a8-e1d3-45ab-a44c-4c01ec1616ec",
   "metadata": {},
   "outputs": [],
   "source": [
    "import pandas as pd\n",
    "import numpy as np\n",
    "import matplotlib.pyplot as plt\n",
    "import seaborn as sns\n",
    "\n",
    "from sklearn.naive_bayes import GaussianNB\n",
    "from sklearn.neighbors import KNeighborsClassifier\n",
    "from sklearn.naive_bayes import MultinomialNB\n",
    "import joblib\n",
    "\n",
    "from sklearn.feature_extraction.text import TfidfVectorizer, CountVectorizer\n",
    "from sklearn.model_selection import train_test_split\n",
    "from sklearn.linear_model import LogisticRegression\n",
    "from sklearn.metrics import (accuracy_score, precision_score, recall_score, confusion_matrix,\n",
    "                             ConfusionMatrixDisplay, roc_curve, f1_score, roc_auc_score,\n",
    "                             classification_report)\n",
    "from sklearn.pipeline import Pipeline\n",
    "from sklearn.model_selection import GridSearchCV\n",
    "import pickle as pk\n",
    "import joblib as jb\n",
    "import warnings\n",
    "warnings.filterwarnings('ignore')"
   ]
  },
  {
   "cell_type": "code",
   "execution_count": 4,
   "id": "ac37df81-c48f-4073-9f03-94a2df5f697e",
   "metadata": {},
   "outputs": [],
   "source": [
    "df_train = pd.read_csv(\"data/cleaned_data.csv\")"
   ]
  },
  {
   "cell_type": "code",
   "execution_count": 5,
   "id": "6e595e06-ada1-4942-8779-614ce9c1fcdb",
   "metadata": {},
   "outputs": [
    {
     "data": {
      "text/html": [
       "<div>\n",
       "<style scoped>\n",
       "    .dataframe tbody tr th:only-of-type {\n",
       "        vertical-align: middle;\n",
       "    }\n",
       "\n",
       "    .dataframe tbody tr th {\n",
       "        vertical-align: top;\n",
       "    }\n",
       "\n",
       "    .dataframe thead th {\n",
       "        text-align: right;\n",
       "    }\n",
       "</style>\n",
       "<table border=\"1\" class=\"dataframe\">\n",
       "  <thead>\n",
       "    <tr style=\"text-align: right;\">\n",
       "      <th></th>\n",
       "      <th>lang_id</th>\n",
       "      <th>text</th>\n",
       "    </tr>\n",
       "  </thead>\n",
       "  <tbody>\n",
       "    <tr>\n",
       "      <th>0</th>\n",
       "      <td>xho</td>\n",
       "      <td>umgaqosiseko wenza amalungiselelo kumaziko axh...</td>\n",
       "    </tr>\n",
       "    <tr>\n",
       "      <th>1</th>\n",
       "      <td>xho</td>\n",
       "      <td>dha iya kuba nobulumko bokubeka umsebenzi naph...</td>\n",
       "    </tr>\n",
       "    <tr>\n",
       "      <th>2</th>\n",
       "      <td>eng</td>\n",
       "      <td>province kwazulunatal department transport inv...</td>\n",
       "    </tr>\n",
       "    <tr>\n",
       "      <th>3</th>\n",
       "      <td>nso</td>\n",
       "      <td>netefatša gore file dilo moka tše dumelelanego...</td>\n",
       "    </tr>\n",
       "    <tr>\n",
       "      <th>4</th>\n",
       "      <td>ven</td>\n",
       "      <td>khomishini ndinganyiso mbeu ewa maana nga mula...</td>\n",
       "    </tr>\n",
       "  </tbody>\n",
       "</table>\n",
       "</div>"
      ],
      "text/plain": [
       "  lang_id                                               text\n",
       "0     xho  umgaqosiseko wenza amalungiselelo kumaziko axh...\n",
       "1     xho  dha iya kuba nobulumko bokubeka umsebenzi naph...\n",
       "2     eng  province kwazulunatal department transport inv...\n",
       "3     nso  netefatša gore file dilo moka tše dumelelanego...\n",
       "4     ven  khomishini ndinganyiso mbeu ewa maana nga mula..."
      ]
     },
     "execution_count": 5,
     "metadata": {},
     "output_type": "execute_result"
    }
   ],
   "source": [
    "df_train.head()"
   ]
  },
  {
   "cell_type": "code",
   "execution_count": 6,
   "id": "e74f6c0c-79ad-4356-88fb-1d8e03da5504",
   "metadata": {},
   "outputs": [],
   "source": [
    "X = df_train['text']\n",
    "y = df_train['lang_id']"
   ]
  },
  {
   "cell_type": "markdown",
   "id": "f78006c3-c054-4f0c-adc3-6f1338a18da2",
   "metadata": {},
   "source": [
    "# Grid search for Multinomial Naive Bayes"
   ]
  },
  {
   "cell_type": "code",
   "execution_count": 8,
   "id": "1ebe3c7c-8f58-476d-9eaa-d536e9d9036f",
   "metadata": {},
   "outputs": [],
   "source": [
    "# Split the data into training and testing sets\n",
    "X_train, X_test, y_train, y_test = train_test_split(df_train['text'], df_train['lang_id'], test_size=0.3, random_state=42)\n",
    "\n",
    "# Vectorize the text data\n",
    "vectorizer = TfidfVectorizer()\n",
    "X_train_vectorized = vectorizer.fit_transform(X_train)"
   ]
  },
  {
   "cell_type": "code",
   "execution_count": 9,
   "id": "c1c4caef-e67b-4dfc-b1bd-07c83305cf33",
   "metadata": {},
   "outputs": [
    {
     "name": "stdout",
     "output_type": "stream",
     "text": [
      "Best Parameters: {'alpha': 0.1, 'fit_prior': False}\n",
      "Best Score: 0.9992207792207791\n"
     ]
    }
   ],
   "source": [
    "from sklearn.model_selection import GridSearchCV\n",
    "\n",
    "# Define the parameter grid\n",
    "param_grid = {\n",
    "    'alpha': [0.1, 0.5, 1.0],  # Values to try for the alpha parameter\n",
    "    'fit_prior': [True, False]  # Values to try for the fit_prior parameter\n",
    "}\n",
    "\n",
    "# Create the grid search object\n",
    "grid_search = GridSearchCV(estimator=MultinomialNB(), param_grid=param_grid, cv=5)\n",
    "\n",
    "# Fit the grid search object to the training data\n",
    "grid_search.fit(X_train_vectorized, y_train)\n",
    "\n",
    "# Get the best parameters and the best score\n",
    "best_params = grid_search.best_params_\n",
    "best_score = grid_search.best_score_\n",
    "\n",
    "print(\"Best Parameters:\", best_params)\n",
    "print(\"Best Score:\", best_score)"
   ]
  },
  {
   "cell_type": "code",
   "execution_count": 10,
   "id": "681008e7-2984-4523-b951-b550c4321e8f",
   "metadata": {},
   "outputs": [
    {
     "name": "stdout",
     "output_type": "stream",
     "text": [
      "Accuracy: 0.998989898989899\n"
     ]
    }
   ],
   "source": [
    "\n",
    "# Create and train the Multinomial Naive Bayes classifier with best parameters\n",
    "naive_bayes = MultinomialNB(alpha=0.1, fit_prior=False)\n",
    "naive_bayes.fit(X_train_vectorized, y_train)\n",
    "\n",
    "# Evaluate the classifier on the test set\n",
    "X_test_vectorized = vectorizer.transform(X_test)\n",
    "accuracy = naive_bayes.score(X_test_vectorized, y_test)\n",
    "\n",
    "print(\"Accuracy:\", accuracy)"
   ]
  },
  {
   "cell_type": "code",
   "execution_count": 11,
   "id": "0dc835df-2019-4980-98e1-bfe74deb7d5b",
   "metadata": {},
   "outputs": [],
   "source": [
    "# Make predictions on the test data\n",
    "y_pred = naive_bayes.predict(X_test_vectorized)"
   ]
  },
  {
   "cell_type": "code",
   "execution_count": 12,
   "id": "ee5551d3-a73d-4299-81c0-0d14f215a102",
   "metadata": {},
   "outputs": [
    {
     "name": "stdout",
     "output_type": "stream",
     "text": [
      "Precision: 0.9989912534870219\n",
      "Recall: 0.998989898989899\n",
      "F1 score: 0.9989896522445352\n"
     ]
    }
   ],
   "source": [
    "# Calculate precision\n",
    "precision = precision_score(y_test, y_pred, average='weighted')\n",
    "print(\"Precision:\", precision)\n",
    "\n",
    "# Calculate recall\n",
    "recall = recall_score(y_test, y_pred, average='weighted')\n",
    "print(\"Recall:\", recall)\n",
    "\n",
    "# Calculate F1 score\n",
    "f1 = f1_score(y_test, y_pred, average='weighted')\n",
    "print(\"F1 score:\", f1)"
   ]
  },
  {
   "cell_type": "code",
   "execution_count": 13,
   "id": "cac3f05e-6b73-4c89-a374-3f950ba33b7f",
   "metadata": {},
   "outputs": [
    {
     "name": "stdout",
     "output_type": "stream",
     "text": [
      "Confusion Matrix:\n",
      "[[895   0   0   0   0   0   0   0   0   0   0]\n",
      " [  0 909   0   0   0   0   0   0   0   0   0]\n",
      " [  0   0 878   0   0   0   0   0   0   1   0]\n",
      " [  0   0   0 939   2   0   0   0   0   0   0]\n",
      " [  0   0   0   0 918   0   0   0   0   0   0]\n",
      " [  0   0   0   0   0 908   0   0   0   0   0]\n",
      " [  1   0   0   1   0   0 880   0   0   0   0]\n",
      " [  0   0   0   0   0   0   0 857   0   0   0]\n",
      " [  0   0   0   0   0   0   0   0 936   0   0]\n",
      " [  0   0   1   0   0   0   0   0   0 921   0]\n",
      " [  0   1   2   0   0   1   0   0   0   0 849]]\n"
     ]
    },
    {
     "data": {
      "image/png": "[encoded data removed]",
      "text/plain": [
       "<Figure size 800x600 with 2 Axes>"
      ]
     },
     "metadata": {},
     "output_type": "display_data"
    }
   ],
   "source": [
    "cm = confusion_matrix(y_test, y_pred)\n",
    "print(\"Confusion Matrix:\")\n",
    "print(cm)\n",
    "\n",
    "# Plot the confusion matrix\n",
    "fig, ax = plt.subplots(figsize=(8, 6))\n",
    "ConfusionMatrixDisplay(confusion_matrix=cm, display_labels=naive_bayes.classes_).plot(ax=ax)\n",
    "plt.title('Confusion Matrix')\n",
    "plt.show()\n"
   ]
  },
  {
   "cell_type": "code",
   "execution_count": 14,
   "id": "89b46a04-d1ae-4f5e-8a41-0e3845c543c8",
   "metadata": {},
   "outputs": [
    {
     "name": "stdout",
     "output_type": "stream",
     "text": [
      "              precision    recall  f1-score   support\n",
      "\n",
      "         afr       1.00      1.00      1.00       895\n",
      "         eng       1.00      1.00      1.00       909\n",
      "         nbl       1.00      1.00      1.00       879\n",
      "         nso       1.00      1.00      1.00       941\n",
      "         sot       1.00      1.00      1.00       918\n",
      "         ssw       1.00      1.00      1.00       908\n",
      "         tsn       1.00      1.00      1.00       882\n",
      "         tso       1.00      1.00      1.00       857\n",
      "         ven       1.00      1.00      1.00       936\n",
      "         xho       1.00      1.00      1.00       922\n",
      "         zul       1.00      1.00      1.00       853\n",
      "\n",
      "    accuracy                           1.00      9900\n",
      "   macro avg       1.00      1.00      1.00      9900\n",
      "weighted avg       1.00      1.00      1.00      9900\n",
      "\n"
     ]
    }
   ],
   "source": [
    "classification_rep = classification_report(y_test, y_pred)\n",
    "print(classification_rep)"
   ]
  },
  {
   "cell_type": "markdown",
   "id": "5d8408f8-38ad-4506-ace5-c296f052a728",
   "metadata": {},
   "source": [
    "### Evaluate the test data"
   ]
  },
  {
   "cell_type": "code",
   "execution_count": 16,
   "id": "80d94ba3-d539-4428-8066-115252fed3e4",
   "metadata": {},
   "outputs": [],
   "source": [
    "df_test = pd.read_csv(\"data/cleaned_test_data.csv\")"
   ]
  },
  {
   "cell_type": "code",
   "execution_count": 17,
   "id": "d0ffc495-eab6-4e48-b3f0-b3a25cf8d9a2",
   "metadata": {},
   "outputs": [],
   "source": [
    "# Convert text data into numerical representation\n",
    "X_test_final = vectorizer.transform(df_test['text'])\n",
    "\n",
    "# Make predictions on the test data\n",
    "y_pred_test_5 = naive_bayes.predict(X_test_final)\n"
   ]
  },
  {
   "cell_type": "code",
   "execution_count": 27,
   "id": "60fe6203-7ff7-4bd8-94d3-8cf4dd138899",
   "metadata": {},
   "outputs": [],
   "source": [
    "\n",
    "# Create a DataFrame for submission\n",
    "submission_5 = df_test[['index']].copy()\n",
    "submission_5['lang_id'] = y_pred_test_5\n",
    "submission_5.columns = ['index', 'lang_id']\n",
    "\n",
    "# Save the submission DataFrame to a CSV file\n",
    "submission_5.to_csv('data/submission_5.csv', index=False)"
   ]
  },
  {
   "cell_type": "code",
   "execution_count": 28,
   "id": "6b9be4c4-7c00-4e09-948a-ac1ac64f430e",
   "metadata": {},
   "outputs": [
    {
     "data": {
      "text/html": [
       "<div>\n",
       "<style scoped>\n",
       "    .dataframe tbody tr th:only-of-type {\n",
       "        vertical-align: middle;\n",
       "    }\n",
       "\n",
       "    .dataframe tbody tr th {\n",
       "        vertical-align: top;\n",
       "    }\n",
       "\n",
       "    .dataframe thead th {\n",
       "        text-align: right;\n",
       "    }\n",
       "</style>\n",
       "<table border=\"1\" class=\"dataframe\">\n",
       "  <thead>\n",
       "    <tr style=\"text-align: right;\">\n",
       "      <th></th>\n",
       "      <th>index</th>\n",
       "      <th>lang_id</th>\n",
       "    </tr>\n",
       "  </thead>\n",
       "  <tbody>\n",
       "    <tr>\n",
       "      <th>0</th>\n",
       "      <td>1</td>\n",
       "      <td>tsn</td>\n",
       "    </tr>\n",
       "    <tr>\n",
       "      <th>1</th>\n",
       "      <td>2</td>\n",
       "      <td>nbl</td>\n",
       "    </tr>\n",
       "    <tr>\n",
       "      <th>2</th>\n",
       "      <td>3</td>\n",
       "      <td>ven</td>\n",
       "    </tr>\n",
       "    <tr>\n",
       "      <th>3</th>\n",
       "      <td>4</td>\n",
       "      <td>ssw</td>\n",
       "    </tr>\n",
       "    <tr>\n",
       "      <th>4</th>\n",
       "      <td>5</td>\n",
       "      <td>afr</td>\n",
       "    </tr>\n",
       "    <tr>\n",
       "      <th>...</th>\n",
       "      <td>...</td>\n",
       "      <td>...</td>\n",
       "    </tr>\n",
       "    <tr>\n",
       "      <th>5677</th>\n",
       "      <td>5678</td>\n",
       "      <td>eng</td>\n",
       "    </tr>\n",
       "    <tr>\n",
       "      <th>5678</th>\n",
       "      <td>5679</td>\n",
       "      <td>nso</td>\n",
       "    </tr>\n",
       "    <tr>\n",
       "      <th>5679</th>\n",
       "      <td>5680</td>\n",
       "      <td>sot</td>\n",
       "    </tr>\n",
       "    <tr>\n",
       "      <th>5680</th>\n",
       "      <td>5681</td>\n",
       "      <td>sot</td>\n",
       "    </tr>\n",
       "    <tr>\n",
       "      <th>5681</th>\n",
       "      <td>5682</td>\n",
       "      <td>nbl</td>\n",
       "    </tr>\n",
       "  </tbody>\n",
       "</table>\n",
       "<p>5682 rows × 2 columns</p>\n",
       "</div>"
      ],
      "text/plain": [
       "      index lang_id\n",
       "0         1     tsn\n",
       "1         2     nbl\n",
       "2         3     ven\n",
       "3         4     ssw\n",
       "4         5     afr\n",
       "...     ...     ...\n",
       "5677   5678     eng\n",
       "5678   5679     nso\n",
       "5679   5680     sot\n",
       "5680   5681     sot\n",
       "5681   5682     nbl\n",
       "\n",
       "[5682 rows x 2 columns]"
      ]
     },
     "execution_count": 28,
     "metadata": {},
     "output_type": "execute_result"
    }
   ],
   "source": [
    "submission_5"
   ]
  },
  {
   "cell_type": "code",
   "execution_count": 23,
   "id": "fd0fd0dc-c195-4d9b-acad-6e15f303740e",
   "metadata": {},
   "outputs": [
    {
     "data": {
      "text/plain": [
       "['data/trained_GRID_KNN_model.pkl']"
      ]
     },
     "execution_count": 23,
     "metadata": {},
     "output_type": "execute_result"
    }
   ],
   "source": [
    "# Save the trained model\n",
    "joblib.dump(naive_bayes, 'data/trained_GRID_KNN_model.pkl')"
   ]
  },
  {
   "cell_type": "code",
   "execution_count": 24,
   "id": "0a1e43f4-3c66-47d8-9be2-10376eb96e7a",
   "metadata": {},
   "outputs": [
    {
     "name": "stderr",
     "output_type": "stream",
     "text": [
      "\u001b[1;38;5;196mCOMET ERROR:\u001b[0m We failed to read file confusion_matrix for uploading.\n",
      "Please double-check the file path and permissions\n",
      "\u001b[1;38;5;214mCOMET WARNING:\u001b[0m Passed step value '              precision    recall  f1-score   support\\n\\n         afr       1.00      1.00      1.00       895\\n         eng       1.00      1.00      1.00       909\\n         nbl       1.00      1.00      1.00       879\\n         nso       1.00      1.00      1.00       941\\n         sot       1.00      1.00      1.00       918\\n         ssw       1.00      1.00      1.00       908\\n         tsn       1.00      1.00      1.00       882\\n         tso       1.00      1.00      1.00       857\\n         ven       1.00      1.00      1.00       936\\n         xho       1.00      1.00      1.00       922\\n         zul       1.00      1.00      1.00       853\\n\\n    accuracy                           1.00      9900\\n   macro avg       1.00      1.00      1.00      9900\\nweighted avg       1.00      1.00      1.00      9900\\n' is not a number, ignoring it\n"
     ]
    },
    {
     "data": {
      "text/plain": [
       "{'web': 'https://www.comet.com/api/asset/download?assetId=28e5c9ebbab443a5a6a20ef975d17c87&experimentKey=de6885a1fb134b63af45a8a38242b852',\n",
       " 'api': 'https://www.comet.com/api/rest/v2/experiment/asset/get-asset?assetId=28e5c9ebbab443a5a6a20ef975d17c87&experimentKey=de6885a1fb134b63af45a8a38242b852',\n",
       " 'assetId': '28e5c9ebbab443a5a6a20ef975d17c87'}"
      ]
     },
     "execution_count": 24,
     "metadata": {},
     "output_type": "execute_result"
    }
   ],
   "source": [
    "# Log the metrics to Comet\n",
    "experiment.log_metric('accuracy', accuracy)\n",
    "experiment.log_metric('precision', precision)\n",
    "experiment.log_metric('recall', recall)\n",
    "experiment.log_metric('f1_score', f1)\n",
    "\n",
    "# Log the confusion matrix\n",
    "\n",
    "experiment.log_image('confusion_matrix', 'confusion_matrix.png')\n",
    "\n",
    "# Log the classification report\n",
    "experiment.log_text('classification_report', classification_rep)"
   ]
  },
  {
   "cell_type": "code",
   "execution_count": 25,
   "id": "27afafd4-471a-4d2e-88da-f672d4d787fc",
   "metadata": {},
   "outputs": [
    {
     "name": "stderr",
     "output_type": "stream",
     "text": [
      "\u001b[1;38;5;39mCOMET INFO:\u001b[0m ---------------------------------------------------------------------------------------\n",
      "\u001b[1;38;5;39mCOMET INFO:\u001b[0m Comet.ml Experiment Summary\n",
      "\u001b[1;38;5;39mCOMET INFO:\u001b[0m ---------------------------------------------------------------------------------------\n",
      "\u001b[1;38;5;39mCOMET INFO:\u001b[0m   Data:\n",
      "\u001b[1;38;5;39mCOMET INFO:\u001b[0m     display_summary_level : 1\n",
      "\u001b[1;38;5;39mCOMET INFO:\u001b[0m     url                   : https://www.comet.com/deolabeeb/explore-hackathon/de6885a1fb134b63af45a8a38242b852\n",
      "\u001b[1;38;5;39mCOMET INFO:\u001b[0m   Metrics:\n",
      "\u001b[1;38;5;39mCOMET INFO:\u001b[0m     accuracy  : 0.998989898989899\n",
      "\u001b[1;38;5;39mCOMET INFO:\u001b[0m     f1_score  : 0.9989896522445352\n",
      "\u001b[1;38;5;39mCOMET INFO:\u001b[0m     precision : 0.9989912534870219\n",
      "\u001b[1;38;5;39mCOMET INFO:\u001b[0m     recall    : 0.998989898989899\n",
      "\u001b[1;38;5;39mCOMET INFO:\u001b[0m   Parameters:\n",
      "\u001b[1;38;5;39mCOMET INFO:\u001b[0m     alpha                  : 0.1\n",
      "\u001b[1;38;5;39mCOMET INFO:\u001b[0m     class_prior            : 1\n",
      "\u001b[1;38;5;39mCOMET INFO:\u001b[0m     cv                     : 5\n",
      "\u001b[1;38;5;39mCOMET INFO:\u001b[0m     error_score            : nan\n",
      "\u001b[1;38;5;39mCOMET INFO:\u001b[0m     estimator              : MultinomialNB()\n",
      "\u001b[1;38;5;39mCOMET INFO:\u001b[0m     estimator__alpha       : 1.0\n",
      "\u001b[1;38;5;39mCOMET INFO:\u001b[0m     estimator__class_prior : 1\n",
      "\u001b[1;38;5;39mCOMET INFO:\u001b[0m     estimator__fit_prior   : True\n",
      "\u001b[1;38;5;39mCOMET INFO:\u001b[0m     estimator__force_alpha : warn\n",
      "\u001b[1;38;5;39mCOMET INFO:\u001b[0m     fit_prior              : False\n",
      "\u001b[1;38;5;39mCOMET INFO:\u001b[0m     force_alpha            : warn\n",
      "\u001b[1;38;5;39mCOMET INFO:\u001b[0m     n_jobs                 : 1\n",
      "\u001b[1;38;5;39mCOMET INFO:\u001b[0m     neg_label              : 0\n",
      "\u001b[1;38;5;39mCOMET INFO:\u001b[0m     norm                   : l2\n",
      "\u001b[1;38;5;39mCOMET INFO:\u001b[0m     param_grid             : {\"alpha\": [0.1, 0.5, 1.0], \"fit_prior\": [true, false]}\n",
      "\u001b[1;38;5;39mCOMET INFO:\u001b[0m     pos_label              : 1\n",
      "\u001b[1;38;5;39mCOMET INFO:\u001b[0m     pre_dispatch           : 2*n_jobs\n",
      "\u001b[1;38;5;39mCOMET INFO:\u001b[0m     refit                  : True\n",
      "\u001b[1;38;5;39mCOMET INFO:\u001b[0m     return_train_score     : False\n",
      "\u001b[1;38;5;39mCOMET INFO:\u001b[0m     scoring                : 1\n",
      "\u001b[1;38;5;39mCOMET INFO:\u001b[0m     smooth_idf             : True\n",
      "\u001b[1;38;5;39mCOMET INFO:\u001b[0m     sparse_output          : False\n",
      "\u001b[1;38;5;39mCOMET INFO:\u001b[0m     sublinear_tf           : False\n",
      "\u001b[1;38;5;39mCOMET INFO:\u001b[0m     use_idf                : True\n",
      "\u001b[1;38;5;39mCOMET INFO:\u001b[0m     verbose                : 0\n",
      "\u001b[1;38;5;39mCOMET INFO:\u001b[0m   Uploads:\n",
      "\u001b[1;38;5;39mCOMET INFO:\u001b[0m     conda-environment-definition : 1\n",
      "\u001b[1;38;5;39mCOMET INFO:\u001b[0m     conda-info                   : 1\n",
      "\u001b[1;38;5;39mCOMET INFO:\u001b[0m     conda-specification          : 1\n",
      "\u001b[1;38;5;39mCOMET INFO:\u001b[0m     environment details          : 1\n",
      "\u001b[1;38;5;39mCOMET INFO:\u001b[0m     filename                     : 1\n",
      "\u001b[1;38;5;39mCOMET INFO:\u001b[0m     git metadata                 : 1\n",
      "\u001b[1;38;5;39mCOMET INFO:\u001b[0m     git-patch (uncompressed)     : 1 (66.75 KB)\n",
      "\u001b[1;38;5;39mCOMET INFO:\u001b[0m     installed packages           : 1\n",
      "\u001b[1;38;5;39mCOMET INFO:\u001b[0m     notebook                     : 1\n",
      "\u001b[1;38;5;39mCOMET INFO:\u001b[0m     source_code                  : 1\n",
      "\u001b[1;38;5;39mCOMET INFO:\u001b[0m     text-sample                  : 1\n",
      "\u001b[1;38;5;39mCOMET INFO:\u001b[0m \n",
      "\u001b[1;38;5;39mCOMET INFO:\u001b[0m Using 'C:\\\\Users\\\\MY PC\\\\Desktop\\\\GIT\\\\HACKATON\\\\South_African_Language_Identification_Hack_2023\\\\.cometml-runs' path as offline directory. Pass 'offline_directory' parameter into constructor or set the 'COMET_OFFLINE_DIRECTORY' environment variable to manually choose where to store offline experiment archives.\n",
      "\u001b[1;38;5;214mCOMET WARNING:\u001b[0m Could not send live data to Comet during experiment runtime. An offline experiment will be available for upload:\n",
      "    comet upload --force-reupload C:\\Users\\MY PC\\Desktop\\GIT\\HACKATON\\South_African_Language_Identification_Hack_2023\\.cometml-runs\\de6885a1fb134b63af45a8a38242b852-OcfqPh.zip\n"
     ]
    }
   ],
   "source": [
    "experiment.end()"
   ]
  },
  {
   "cell_type": "code",
   "execution_count": 26,
   "id": "fdf9ff7f-3d25-4379-ba9e-5e3bc1ea1b00",
   "metadata": {},
   "outputs": [
    {
     "data": {
      "text/html": [
       "\n",
       "        <iframe\n",
       "            width=\"100%\"\n",
       "            height=\"800px\"\n",
       "            src=\"https://www.comet.com/deolabeeb/explore-hackathon/de6885a1fb134b63af45a8a38242b852\"\n",
       "            frameborder=\"0\"\n",
       "            allowfullscreen\n",
       "            \n",
       "        ></iframe>\n",
       "        "
      ],
      "text/plain": [
       "<IPython.lib.display.IFrame at 0x17700550>"
      ]
     },
     "metadata": {},
     "output_type": "display_data"
    }
   ],
   "source": [
    "experiment.display()"
   ]
  },
  {
   "cell_type": "code",
   "execution_count": null,
   "id": "08a112d2-6a16-4cdd-b0d9-24093f3a9f6f",
   "metadata": {},
   "outputs": [],
   "source": []
  },
  {
   "cell_type": "code",
   "execution_count": null,
   "id": "cc49fe22-f05a-4058-a425-fd110c9410e2",
   "metadata": {},
   "outputs": [],
   "source": []
  }
 ],
 "metadata": {
  "kernelspec": {
   "display_name": "Python 3 (ipykernel)",
   "language": "python",
   "name": "python3"
  },
  "language_info": {
   "codemirror_mode": {
    "name": "ipython",
    "version": 3
   },
   "file_extension": ".py",
   "mimetype": "text/x-python",
   "name": "python",
   "nbconvert_exporter": "python",
   "pygments_lexer": "ipython3",
   "version": "3.10.9"
  }
 },
 "nbformat": 4,
 "nbformat_minor": 5
}
